{
 "cells": [
  {
   "cell_type": "code",
   "execution_count": 18,
   "metadata": {},
   "outputs": [],
   "source": [
    "import random\n",
    "import collections"
   ]
  },
  {
   "cell_type": "markdown",
   "metadata": {},
   "source": [
    "# test coin toss"
   ]
  },
  {
   "cell_type": "code",
   "execution_count": 14,
   "metadata": {
    "scrolled": true
   },
   "outputs": [
    {
     "data": {
      "text/plain": [
       "0.1279782812345186"
      ]
     },
     "execution_count": 14,
     "metadata": {},
     "output_type": "execute_result"
    }
   ],
   "source": [
    "random.random()"
   ]
  },
  {
   "cell_type": "code",
   "execution_count": 15,
   "metadata": {},
   "outputs": [],
   "source": [
    "def toss_coin(prob):\n",
    "    \"\"\"toss a coin with P(head) = prob\"\"\"\n",
    "    num = random.random()\n",
    "    return num < prob"
   ]
  },
  {
   "cell_type": "code",
   "execution_count": 19,
   "metadata": {},
   "outputs": [
    {
     "data": {
      "text/plain": [
       "Counter({False: 49, True: 51})"
      ]
     },
     "execution_count": 19,
     "metadata": {},
     "output_type": "execute_result"
    }
   ],
   "source": [
    "x = [toss_coin(0.5) for _ in range(100)]\n",
    "collections.Counter(x)"
   ]
  },
  {
   "cell_type": "code",
   "execution_count": 20,
   "metadata": {},
   "outputs": [
    {
     "data": {
      "text/plain": [
       "Counter({False: 10, True: 90})"
      ]
     },
     "execution_count": 20,
     "metadata": {},
     "output_type": "execute_result"
    }
   ],
   "source": [
    "x = [toss_coin(0.9) for _ in range(100)]\n",
    "collections.Counter(x)"
   ]
  },
  {
   "cell_type": "markdown",
   "metadata": {},
   "source": [
    "# test write data"
   ]
  },
  {
   "cell_type": "code",
   "execution_count": 29,
   "metadata": {},
   "outputs": [],
   "source": [
    "fname_out = \"/data/DataFest2017/data_subset_prob20.txt\"\n",
    "fout = open(fname_out, 'w')\n",
    "fout.write(\"Hello\")\n",
    "fout.write(\"World\")\n",
    "fout.close()"
   ]
  },
  {
   "cell_type": "code",
   "execution_count": 30,
   "metadata": {},
   "outputs": [
    {
     "name": "stdout",
     "output_type": "stream",
     "text": [
      "HelloWorld"
     ]
    }
   ],
   "source": [
    "!cat /data/DataFest2017/data_subset_prob20.txt"
   ]
  },
  {
   "cell_type": "markdown",
   "metadata": {},
   "source": [
    "# subset the data"
   ]
  },
  {
   "cell_type": "code",
   "execution_count": 22,
   "metadata": {},
   "outputs": [
    {
     "name": "stdout",
     "output_type": "stream",
     "text": [
      "0\n",
      "date_time\tsite_name\tuser_location_country\tuser_location_region\tuser_location_city\tuser_location_latitude\tuser_location_longitude\torig_destination_distance\tuser_id\tis_mobile\tis_package\tchannel\tsrch_ci\tsrch_co\tsrch_adults_cnt\tsrch_children_cnt\tsrch_rm_cnt\tsrch_destination_id\thotel_country\tis_booking\thotel_id\tprop_is_branded\tprop_starrating\tdistance_band\thist_price_band\tpopularity_band\tcnt\n",
      "\n",
      "1\n",
      "2015-09-03 16:37:00\tEXPEDIA.COM\tUNITED STATES OF AMERICA\tCA\tBRENTWOOD\t37.92381\t-121.69622\t5539.583\t-2147479371\t1\t0\t324\t2016-05-19\t2016-05-23\t2\t0\t1\t24802975\tFRANCE\t0\t17366540\t0\t3.0\tM\tL\tVH\t1\n",
      "\n",
      "2\n",
      "2015-09-21 22:47:00\tEXPEDIA.COM\tUNITED STATES OF AMERICA\tCA\tBRENTWOOD\t37.92381\t-121.69622\t5873.028\t-2147479371\t1\t0\t324\t2016-05-12\t2016-05-15\t2\t0\t1\t187569808\tFRANCE\t0\t133800525\t1\t4.0\tC\tM\tVH\t2\n",
      "\n",
      "3\n",
      "2015-11-15 21:15:00\tEXPEDIA.COM\tUNITED STATES OF AMERICA\tCA\tBRENTWOOD\t37.92381\t-121.69622\t5329.1407\t-2147479371\t1\t0\t541\t2015-11-29\t2015-11-30\t2\t0\t1\t5526772\tUNITED KINGDOM\t0\t439889\t1\t4.0\tM\tH\tVH\t1\n",
      "\n",
      "4\n",
      "2015-11-15 21:26:00\tEXPEDIA.COM\tUNITED STATES OF AMERICA\tCA\tBRENTWOOD\t37.92381\t-121.69622\t5329.1407\t-2147479371\t1\t0\t541\t2016-05-23\t2016-05-26\t2\t0\t1\t5526772\tUNITED KINGDOM\t0\t41796865\t0\t4.0\tM\tM\tVH\t1\n",
      "\n",
      "5\n",
      "2015-11-15 23:06:00\tEXPEDIA.COM\tUNITED STATES OF AMERICA\tCA\tBRENTWOOD\t37.92381\t-121.69622\t5329.1407\t-2147479371\t1\t0\t541\t2016-05-23\t2016-05-26\t2\t0\t1\t5526772\tUNITED KINGDOM\t0\t363054980\t0\t4.0\tM\tH\tM\t1\n",
      "\n",
      "6\n",
      "2015-05-30 23:57:00\tEXPEDIA.COM\tUNITED STATES OF AMERICA\tSD\tSIOUX FALLS\t43.52726\t-96.773615\t161.9662\t-2147476571\t1\t0\t541\t2015-06-30\t2015-07-01\t3\t3\t1\t82893\tUNITED STATES OF AMERICA\t0\t127643119\t1\t3.0\tVC\tVH\tM\t1\n",
      "\n"
     ]
    }
   ],
   "source": [
    "fname = \"/data/DataFest2017/data.txt\"\n",
    "\n",
    "with open(fname) as f:\n",
    "    for idx, line in enumerate(f):\n",
    "        print(idx)\n",
    "        print(line)\n",
    "        if (idx > 5):\n",
    "            break"
   ]
  },
  {
   "cell_type": "code",
   "execution_count": 31,
   "metadata": {},
   "outputs": [],
   "source": [
    "fname_out = \"/data/DataFest2017/data_subset_prob20.txt\"\n",
    "fout = open(fname_out, 'w')\n",
    "\n",
    "fname_in = \"/data/DataFest2017/data.txt\"\n",
    "with open(fname) as fin:\n",
    "    for idx, line in enumerate(fin):\n",
    "        if (idx == 0):\n",
    "            fout.write(line)\n",
    "            continue\n",
    "            \n",
    "        if (toss_coin(0.5)):\n",
    "            fout.write(line)\n",
    "            continue\n",
    "        \n",
    "        if (idx > 10000):\n",
    "            break\n",
    "        \n",
    "fin.close()            \n",
    "fout.close()"
   ]
  },
  {
   "cell_type": "code",
   "execution_count": 32,
   "metadata": {},
   "outputs": [
    {
     "name": "stdout",
     "output_type": "stream",
     "text": [
      "  5000 162957 974356 /data/DataFest2017/data_subset_prob20.txt\r\n"
     ]
    }
   ],
   "source": [
    "!wc /data/DataFest2017/data_subset_prob20.txt"
   ]
  },
  {
   "cell_type": "code",
   "execution_count": 33,
   "metadata": {},
   "outputs": [
    {
     "name": "stdout",
     "output_type": "stream",
     "text": [
      "date_time\tsite_name\tuser_location_country\tuser_location_region\tuser_location_city\tuser_location_latitude\tuser_location_longitude\torig_destination_distance\tuser_id\tis_mobile\tis_package\tchannel\tsrch_ci\tsrch_co\tsrch_adults_cnt\tsrch_children_cnt\tsrch_rm_cnt\tsrch_destination_id\thotel_country\tis_booking\thotel_id\tprop_is_branded\tprop_starrating\tdistance_band\thist_price_band\tpopularity_band\tcnt\r\n",
      "2015-11-15 21:15:00\tEXPEDIA.COM\tUNITED STATES OF AMERICA\tCA\tBRENTWOOD\t37.92381\t-121.69622\t5329.1407\t-2147479371\t1\t0\t541\t2015-11-29\t2015-11-30\t2\t0\t1\t5526772\tUNITED KINGDOM\t0\t439889\t1\t4.0\tM\tH\tVH\t1\r\n",
      "2015-11-15 21:26:00\tEXPEDIA.COM\tUNITED STATES OF AMERICA\tCA\tBRENTWOOD\t37.92381\t-121.69622\t5329.1407\t-2147479371\t1\t0\t541\t2016-05-23\t2016-05-26\t2\t0\t1\t5526772\tUNITED KINGDOM\t0\t41796865\t0\t4.0\tM\tM\tVH\t1\r\n",
      "2015-11-15 23:06:00\tEXPEDIA.COM\tUNITED STATES OF AMERICA\tCA\tBRENTWOOD\t37.92381\t-121.69622\t5329.1407\t-2147479371\t1\t0\t541\t2016-05-23\t2016-05-26\t2\t0\t1\t5526772\tUNITED KINGDOM\t0\t363054980\t0\t4.0\tM\tH\tM\t1\r\n",
      "2015-05-30 23:57:00\tEXPEDIA.COM\tUNITED STATES OF AMERICA\tSD\tSIOUX FALLS\t43.52726\t-96.773615\t161.9662\t-2147476571\t1\t0\t541\t2015-06-30\t2015-07-01\t3\t3\t1\t82893\tUNITED STATES OF AMERICA\t0\t127643119\t1\t3.0\tVC\tVH\tM\t1\r\n",
      "2015-11-27 20:57:00\tEXPEDIA.COM\tUNITED STATES OF AMERICA\tSD\tSIOUX FALLS\t43.52726\t-96.773615\t195.104\t-2147476571\t1\t0\t541\t2015-12-18\t2015-12-20\t2\t4\t1\t187860278\tUNITED STATES OF AMERICA\t0\t24451838\t1\t3.0\tM\tM\tM\t3\r\n",
      "2015-11-27 21:03:00\tEXPEDIA.COM\tUNITED STATES OF AMERICA\tSD\tSIOUX FALLS\t43.52726\t-96.773615\t195.104\t-2147476571\t1\t0\t541\t2015-12-18\t2015-12-20\t2\t4\t1\t187860278\tUNITED STATES OF AMERICA\t0\t312727\t1\t4.0\tM\tL\tH\t1\r\n",
      "2015-11-27 21:14:00\tEXPEDIA.COM\tUNITED STATES OF AMERICA\tSD\tSIOUX FALLS\t43.52726\t-96.773615\t199.6104\t-2147476571\t1\t0\t541\t2015-12-18\t2015-12-20\t2\t4\t1\t5527020\tUNITED STATES OF AMERICA\t0\t1986541\t1\t3.0\tC\tM\tVH\t4\r\n",
      "2015-05-27 11:31:00\tEXPEDIA.CA\tCANADA\tBC\tSURREY\t49.1515735\t-122.7951275\t2790.0344\t-2147412448\t0\t1\t541\t2015-09-03\t2015-09-09\t1\t0\t1\t5526989\tUNITED STATES OF AMERICA\t0\t16702706\t0\t3.0\tC\tL\tH\t1\r\n",
      "2015-08-10 13:21:00\tEXPEDIA.COM\tUNITED STATES OF AMERICA\tWA\tYAKIMA\t46.6077755\t-120.50800000000001\t2320.2469\t-2147347974\t0\t0\t541\t2015-08-12\t2015-08-13\t2\t0\t1\t187750631\tUNITED STATES OF AMERICA\t0\t33502040\t1\t3.0\tF\tM\tVH\t1\r\n"
     ]
    }
   ],
   "source": [
    "!head /data/DataFest2017/data_subset_prob20.txt"
   ]
  }
 ],
 "metadata": {
  "kernelspec": {
   "display_name": "Python 3",
   "language": "python",
   "name": "python3"
  },
  "language_info": {
   "codemirror_mode": {
    "name": "ipython",
    "version": 3
   },
   "file_extension": ".py",
   "mimetype": "text/x-python",
   "name": "python",
   "nbconvert_exporter": "python",
   "pygments_lexer": "ipython3",
   "version": "3.5.5"
  }
 },
 "nbformat": 4,
 "nbformat_minor": 2
}
